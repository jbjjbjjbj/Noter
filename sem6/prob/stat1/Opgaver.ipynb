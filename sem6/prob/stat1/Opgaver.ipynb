{
 "cells": [
  {
   "cell_type": "code",
   "execution_count": 22,
   "metadata": {},
   "outputs": [],
   "source": [
    "import numpy as np\n",
    "import scipy.stats\n",
    "import matplotlib.pyplot as plt"
   ]
  },
  {
   "cell_type": "markdown",
   "metadata": {},
   "source": [
    "# Problem 1"
   ]
  },
  {
   "cell_type": "code",
   "execution_count": 18,
   "metadata": {},
   "outputs": [],
   "source": [
    "# Create data\n",
    "c = [ 112, 121, 126, 108, 141, 104, 136, 134,\n",
    "  121, 118, 143, 116, 108, 122, 127, 140,\n",
    "  113, 117, 126, 130, 134, 120, 131, 133,\n",
    "  118, 125, 151, 147, 137, 140, 132, 119,\n",
    "  110, 124, 132, 152, 135, 130, 136, 128 ]"
   ]
  },
  {
   "cell_type": "code",
   "execution_count": 14,
   "metadata": {},
   "outputs": [
    {
     "name": "stdout",
     "output_type": "stream",
     "text": [
      "Len: 40\n",
      "Mean: 127.425\n",
      "Median: 127.5\n"
     ]
    }
   ],
   "source": [
    "# Opgave A\n",
    "print(f\"Len: {len(c)}\")\n",
    "print(f\"Mean: {np.mean(c)}\")\n",
    "print(f\"Median: {np.median(c)}\")"
   ]
  },
  {
   "cell_type": "code",
   "execution_count": 38,
   "metadata": {},
   "outputs": [
    {
     "data": {
      "text/plain": [
       "[<matplotlib.lines.Line2D at 0x7fa0b92dae80>]"
      ]
     },
     "execution_count": 38,
     "metadata": {},
     "output_type": "execute_result"
    },
    {
     "data": {
      "image/png": "[encoded data removed]",
      "text/plain": [
       "<Figure size 432x288 with 1 Axes>"
      ]
     },
     "metadata": {
      "needs_background": "light"
     },
     "output_type": "display_data"
    }
   ],
   "source": [
    "# Opgave B\n",
    "sigma = np.std(c)\n",
    "mean = np.mean(c)\n",
    "\n",
    "# Calculate a normal fitting\n",
    "x = np.linspace(mean - 3*sigma, mean + 3 * sigma, 100)\n",
    "\n",
    "plt.hist(c, 20, density=True)\n",
    "plt.plot(x, scipy.stats.norm.pdf(x, mean, sigma))\n"
   ]
  },
  {
   "cell_type": "code",
   "execution_count": 40,
   "metadata": {},
   "outputs": [
    {
     "name": "stdout",
     "output_type": "stream",
     "text": [
      "Stddiv: 11.723667301659493\n"
     ]
    }
   ],
   "source": [
    "# Opgave C\n",
    "print(f\"Stddiv: {sigma}\")"
   ]
  },
  {
   "cell_type": "code",
   "execution_count": 68,
   "metadata": {},
   "outputs": [
    {
     "name": "stdout",
     "output_type": "stream",
     "text": [
      "Percent in interval: 85.0%\n"
     ]
    }
   ],
   "source": [
    "# Opgave D\n",
    "r = 1.5 * sigma\n",
    "inside = ((c > (mean - r)) & (c < (mean + r))).sum()\n",
    "percent = 100 * inside / len(c)\n",
    "print(f\"Percent in interval: {percent}%\")"
   ]
  },
  {
   "cell_type": "raw",
   "metadata": {},
   "source": [
    "# Opgave F\n",
    "This fits well with 85 between 68 and 95"
   ]
  },
  {
   "cell_type": "markdown",
   "metadata": {},
   "source": [
    "# Problem 2"
   ]
  }
 ],
 "metadata": {
  "kernelspec": {
   "display_name": "Python 3",
   "language": "python",
   "name": "python3"
  },
  "language_info": {
   "codemirror_mode": {
    "name": "ipython",
    "version": 3
   },
   "file_extension": ".py",
   "mimetype": "text/x-python",
   "name": "python",
   "nbconvert_exporter": "python",
   "pygments_lexer": "ipython3",
   "version": "3.9.2"
  }
 },
 "nbformat": 4,
 "nbformat_minor": 4
}
