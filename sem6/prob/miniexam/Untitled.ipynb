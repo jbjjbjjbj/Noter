{
 "cells": [
  {
   "cell_type": "code",
   "execution_count": 41,
   "metadata": {},
   "outputs": [],
   "source": [
    "import numpy as np\n",
    "import matplotlib.pyplot as plt\n",
    "from scipy import stats"
   ]
  },
  {
   "cell_type": "markdown",
   "metadata": {},
   "source": [
    "# Problem 1\n",
    "\n",
    "Man kan sige at distribution af et enkelt kast af den 8 kantede terning er $1/8$ for hver værdi i $[1, 8]$.\n",
    "Ved at summe dem sammen kommer de til at ligne en gaussian random variable.\n",
    "\n",
    "Man ved også de to limits for distributionen, nemlig $[50 \\cdot 1, 50 \\cdot 8]$, og hver imellem må mean ligge.\n",
    "Ud fra intervallet og mean kan man regne varience."
   ]
  },
  {
   "cell_type": "code",
   "execution_count": 10,
   "metadata": {},
   "outputs": [],
   "source": [
    "# Man kan først finde størrelsen af intervallet, eller var * 2\n",
    "var2 = 50 * 8 - 50 * 1\n",
    "sigma2 = var2/2\n",
    "mean = 50 * 1 + sigma2\n",
    "\n",
    "# Ved coin flip får man egentlig det samme distribution"
   ]
  },
  {
   "cell_type": "code",
   "execution_count": null,
   "metadata": {},
   "outputs": [],
   "source": [
    "# Part A\n"
   ]
  },
  {
   "cell_type": "code",
   "execution_count": 8,
   "metadata": {},
   "outputs": [
    {
     "data": {
      "text/plain": [
       "<BarContainer object of 500 artists>"
      ]
     },
     "execution_count": 8,
     "metadata": {},
     "output_type": "execute_result"
    },
    {
     "data": {
      "image/png": "[encoded data removed]",
      "text/plain": [
       "<Figure size 432x288 with 1 Axes>"
      ]
     },
     "metadata": {
      "needs_background": "light"
     },
     "output_type": "display_data"
    }
   ],
   "source": [
    "slots = np.zeros(500)\n",
    "x = np.arange(500)\n",
    "for exp in range(1000):\n",
    "    s = 0\n",
    "    for i in range(50):\n",
    "        r = np.random.randint(1, 9)\n",
    "        #r = [1, 8][np.random.randint(0, 2)]\n",
    "        s += r\n",
    "    slots[s] += 1\n",
    "\n",
    "plt.bar(x, slots)"
   ]
  },
  {
   "cell_type": "markdown",
   "metadata": {},
   "source": [
    "# Problem 2\n",
    "\n",
    "The distribution function is given by:\n",
    "$$\n",
    "f(x)_\\theta = \\frac x {\\theta^2} e ^ {- \\frac x \\theta }\n",
    "$$\n",
    "\n",
    "Then we can find the likelyhood function $f(x_1,...,x_n | \\theta)$.\n",
    "\n",
    "$$\n",
    "f(x_1,...,x_n | \\theta) = f(x_1)_\\theta \\cdot ... \\cdot f(x_n)_\\theta = \\frac {\\prod_i x_i} {\\theta^{2n}} \\cdot \\exp \\left( -\\frac {\\sum_i} \\theta \\right)\n",
    "$$\n",
    "\n",
    "Her kan man tage log på hver side\n",
    "\n",
    "$$\n",
    "\\log f(x_1,...,x_n | \\theta) = \\log \\left( \\frac {\\prod_i x_i} {\\theta^{2n}} \\right) - \\frac 1 \\theta \\sum_i x_i\n",
    "$$\n",
    "\n",
    "Og diff i forhold til $\\theta$.\n",
    "\n",
    "$$\n",
    "\\frac d {d\\theta} \\log f(x_1,...,x_n | \\theta) = -\\frac {2n} \\theta + \\frac 1 {\\theta^2} \\sum_i x_i\n",
    "$$\n",
    "\n",
    "Og man kan løse for $0$.\n",
    "\n",
    "$$\n",
    "\\theta = \\frac {\\sum_i x_i} {2n}\n",
    "$$\n"
   ]
  },
  {
   "cell_type": "code",
   "execution_count": 34,
   "metadata": {},
   "outputs": [
    {
     "name": "stdout",
     "output_type": "stream",
     "text": [
      "Estimated theta = 1.2944444444444445\n"
     ]
    }
   ],
   "source": [
    "# Part B\n",
    "# Her indsættes samples\n",
    "\n",
    "samples = np.array([3.2, 1.4, 6.5, 2.2, 1.8, 2.6, 3.9, 0.5, 1.2])\n",
    "N = len(samples)\n",
    "\n",
    "sum_samples = np.sum(samples)\n",
    "\n",
    "theta_est = sum_samples / (2 * N)\n",
    "print(f\"Estimated theta = {theta_est}\")"
   ]
  },
  {
   "cell_type": "code",
   "execution_count": 39,
   "metadata": {},
   "outputs": [
    {
     "name": "stdout",
     "output_type": "stream",
     "text": [
      "argmax: 1.2962962962962963\n"
     ]
    },
    {
     "data": {
      "text/plain": [
       "[<matplotlib.lines.Line2D at 0x7faf4d186640>]"
      ]
     },
     "execution_count": 39,
     "metadata": {},
     "output_type": "execute_result"
    },
    {
     "data": {
      "image/png": "[encoded data removed]",
      "text/plain": [
       "<Figure size 432x288 with 1 Axes>"
      ]
     },
     "metadata": {
      "needs_background": "light"
     },
     "output_type": "display_data"
    }
   ],
   "source": [
    "# Prøver lige at løse den programmerbart også\n",
    "thetas = np.linspace(0, 5, 1000)[1:]\n",
    "res = np.empty(thetas.shape)\n",
    "\n",
    "for i, theta in enumerate(thetas):\n",
    "    f = lambda x: ((x / (theta**2)) * np.exp(-x / theta))\n",
    "    score = 1\n",
    "    for sample in samples:\n",
    "        score *= f(sample)\n",
    "    \n",
    "    res[i] = score\n",
    "\n",
    "maxtheta = thetas[np.argmax(res)]\n",
    "print(f\"argmax: {maxtheta}\")\n",
    "plt.plot(thetas, res)"
   ]
  },
  {
   "cell_type": "markdown",
   "metadata": {},
   "source": [
    "# Problem 3\n",
    "\n"
   ]
  },
  {
   "cell_type": "code",
   "execution_count": 60,
   "metadata": {},
   "outputs": [],
   "source": [
    "radial = np.array([5.2, 5.7, 7.6, 8.0, 7.7, 5.5, 6.7, 7.0, 8.4, 5.9])\n",
    "\n",
    "belted = np.array([5.1, 5.9, 7.2, 7.9, 7.8, 5.4, 6.7, 6.8, 7.9, 5.7])\n",
    "belted_mean = np.mean(belted)\n",
    "N = len(belted)"
   ]
  },
  {
   "cell_type": "markdown",
   "metadata": {},
   "source": [
    "### Part A\n",
    "\n",
    "Here we don't know the varience, and will therefore have to use the t distribution method.\n",
    "The interval is given by:\n",
    "$$\n",
    "\\bar X \\pm t_{\\alpha/2,n-1} \\frac S {\\sqrt{n}}\n",
    "$$\n"
   ]
  },
  {
   "cell_type": "code",
   "execution_count": 59,
   "metadata": {},
   "outputs": [
    {
     "name": "stdout",
     "output_type": "stream",
     "text": [
      "Then the interval becomes [6.174311863003706, 7.105688136996291]\n"
     ]
    }
   ],
   "source": [
    "alpha = 0.1\n",
    "# Lets start by calculating the t value\n",
    "tval = stats.t.ppf(1 - alpha, N-1)\n",
    "\n",
    "S = np.sqrt(np.sum((belted - belted_mean)**2) / (N - 1))\n",
    "\n",
    "diff = tval * S / np.sqrt(N)\n",
    "print(f\"Then the interval becomes [{belted_mean - diff}, {belted_mean + diff}]\")"
   ]
  },
  {
   "cell_type": "markdown",
   "metadata": {},
   "source": [
    "### Part B\n",
    "\n",
    "We can take the difference of the two and say that this should be less than or equal to $0$.\n",
    "Thus the $H_0$ is $(\\mu_{belted} - \\mu_{radial}) \\leq 0$.\n"
   ]
  },
  {
   "cell_type": "code",
   "execution_count": 79,
   "metadata": {},
   "outputs": [
    {
     "name": "stdout",
     "output_type": "stream",
     "text": [
      "[ 0.1 -0.2  0.4  0.1 -0.1  0.1  0.   0.2  0.5  0.2] 0.12999999999999998\n",
      "ts: 1.9475670608117976\n",
      "p-value: 0.04164574347828587\n",
      "H_0 is accepted, thus radial does not make it better\n"
     ]
    }
   ],
   "source": [
    "mu_0 = 0\n",
    "alpha = 0.05\n",
    "diff = radial - belted\n",
    "diff_mean = np.mean(diff)\n",
    "print(diff, diff_mean)\n",
    "\n",
    "S = np.sqrt(np.sum((diff - diff_mean)**2) / (N - 1))\n",
    "\n",
    "ts = np.sqrt(N) * (diff_mean - mu_0) / S\n",
    "print(f\"ts: {ts}\")\n",
    "p_value = 1 - stats.t.cdf(ts, N - 1)\n",
    "print(f\"p-value: {p_value}\")\n",
    "\n",
    "if p_value > alpha:\n",
    "    print(\"H_0 is rejected thus radial tires have better economy\")\n",
    "else:\n",
    "    print(\"H_0 is accepted, thus radial does not make it better\")"
   ]
  },
  {
   "cell_type": "markdown",
   "metadata": {},
   "source": [
    "### Part C\n",
    "\n",
    "Drivers can drive radically different in the way they brake, shift gears and apply power.\n",
    "The driver is therefore as important a parameter as the car driven.\n",
    "\n",
    "When creating such tests it is very important to only change the variable in question, in this case the tires.\n",
    "By keeping all other variables the same, one can say that a change in performance likely comes from the other tires."
   ]
  }
 ],
 "metadata": {
  "kernelspec": {
   "display_name": "Python 3",
   "language": "python",
   "name": "python3"
  },
  "language_info": {
   "codemirror_mode": {
    "name": "ipython",
    "version": 3
   },
   "file_extension": ".py",
   "mimetype": "text/x-python",
   "name": "python",
   "nbconvert_exporter": "python",
   "pygments_lexer": "ipython3",
   "version": "3.8.8"
  }
 },
 "nbformat": 4,
 "nbformat_minor": 4
}
